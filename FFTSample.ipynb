{
    "cells": [
        {
            "cell_type": "code",
            "execution_count": 1,
            "source": [
                "import math\r\n",
                "import numpy as np\r\n",
                "from matplotlib import pyplot as plt \r\n"
            ],
            "outputs": [],
            "metadata": {}
        },
        {
            "cell_type": "markdown",
            "source": [
                "### 问题\r\n",
                "现在我们有一组**未知信号的采样**，在两个周期内采样40次，得到结果。现在我们想要知道这组信号的**频率，振幅，相位**，该怎么做？\r\n",
                "\r\n",
                "为了解释这个问题，首先构造一组信号的离散采样。它表示这个信号在一个周期内振动了两次，一共采样了40次。Phase=0。\r\n",
                "$$\r\n",
                "x[n] = \\cos(2\\pi \\frac{2n}{40}) \\ \\ \\ \\ \\  n=0,1,2,...,39\r\n",
                "$$"
            ],
            "metadata": {}
        },
        {
            "cell_type": "code",
            "execution_count": 4,
            "source": [
                " n = np.arange(0, 40, 1)\r\n",
                " src_sig =  np.cos(2*math.pi * 2*n / 40)\r\n",
                " plt.stem(src_sig)"
            ],
            "outputs": [
                {
                    "output_type": "execute_result",
                    "data": {
                        "text/plain": [
                            "<StemContainer object of 3 artists>"
                        ]
                    },
                    "metadata": {},
                    "execution_count": 4
                },
                {
                    "output_type": "display_data",
                    "data": {
                        "text/plain": [
                            "<Figure size 432x288 with 1 Axes>"
                        ],
                        "image/png": "[encoded data removed]"
                    },
                    "metadata": {
                        "needs_background": "light"
                    }
                }
            ],
            "metadata": {}
        },
        {
            "cell_type": "markdown",
            "source": [
                "一个加上Phase shift的源信号\r\n",
                "$$\r\n",
                "x[n] = \\cos(2 \\pi \\frac{2n}{40} + \\frac{\\pi}{3})\r\n",
                "$$"
            ],
            "metadata": {}
        },
        {
            "cell_type": "code",
            "execution_count": 2,
            "source": [
                "src_sig = np.zeros([40,40])\r\n",
                "# 源信号 扩展了40份，每一份都是一样的\r\n",
                "for N in range(0, 40):\r\n",
                "    n = np.arange(0, 40, 1)\r\n",
                "    # src_sig[N*40 : N*40 + 40] = np.cos(2*math.pi * 2*n / 40 + math.pi/3)\r\n",
                "    src_sig[N, 0:40] = np.cos(2*math.pi * 2*n / 40 + math.pi/3)\r\n",
                "    # src_sig[N, 0:39] = np.cos(2*math.pi * 2*n / 40 + math.pi/3)\r\n",
                "plt.stem(src_sig[0,:])"
            ],
            "outputs": [
                {
                    "output_type": "execute_result",
                    "data": {
                        "text/plain": [
                            "<StemContainer object of 3 artists>"
                        ]
                    },
                    "metadata": {},
                    "execution_count": 2
                },
                {
                    "output_type": "display_data",
                    "data": {
                        "text/plain": [
                            "<Figure size 432x288 with 1 Axes>"
                        ],
                        "image/png": "[encoded data removed]"
                    },
                    "metadata": {
                        "needs_background": "light"
                    }
                }
            ],
            "metadata": {}
        },
        {
            "cell_type": "markdown",
            "source": [
                "一组sin basis，产生一组新数据。这样就有：\r\n",
                "$$\r\n",
                "X_{sin}[2] = {\\Sigma_{n=0}^{39} \\cos(2\\pi \\frac{2n}{40}+ \\frac{\\pi}{3}) \\sin(2\\pi \\frac{2n}{40})} = 10\\sqrt{3}\r\n",
                "$$"
            ],
            "metadata": {}
        },
        {
            "cell_type": "code",
            "execution_count": 16,
            "source": [
                "\r\n",
                "# 40个sin basis\r\n",
                "sin_basis = np.zeros([40, 40])\r\n",
                "for N in range(0, 40):\r\n",
                "    n = np.arange(0, 40, 1)\r\n",
                "    # sin_basis[N*40 : N*40 + 40] = np.sin(2*math.pi * N*n / 40)\r\n",
                "    sin_basis[N, 0:40] = np.sin(2*math.pi * N*n / 40)\r\n",
                "\r\n",
                "X_mat_sin = src_sig * sin_basis\r\n",
                "X_sin=X_mat_sin.sum(axis=1) # 需要指定按行求和，否则默认按列求和\r\n",
                "maxX_sin=max(X_sin)\r\n",
                "plt.stem(X_sin)\r\n"
            ],
            "outputs": [
                {
                    "output_type": "execute_result",
                    "data": {
                        "text/plain": [
                            "<StemContainer object of 3 artists>"
                        ]
                    },
                    "metadata": {},
                    "execution_count": 16
                },
                {
                    "output_type": "display_data",
                    "data": {
                        "text/plain": [
                            "<Figure size 432x288 with 1 Axes>"
                        ],
                        "image/png": "[encoded data removed]"
                    },
                    "metadata": {
                        "needs_background": "light"
                    }
                }
            ],
            "metadata": {}
        },
        {
            "cell_type": "code",
            "execution_count": 17,
            "source": [
                "cos_basis = np.zeros([40, 40])\r\n",
                "for N in range(0, 40):\r\n",
                "    n = np.arange(0, 40, 1)\r\n",
                "    # cos_basis[N*40 : N*40 + 40] = np.cos(2*math.pi * N*n / 40)\r\n",
                "    cos_basis[N, 0:40] = np.cos(2*math.pi * N*n / 40)\r\n",
                "\r\n",
                "X_mat_cos = src_sig * cos_basis\r\n",
                "X_cos=X_mat_cos.sum(axis=1) # 需要指定按行求和，否则默认按列求和\r\n",
                "maxX_cos=max(X_cos)\r\n",
                "plt.stem(X_cos)\r\n",
                "\r\n"
            ],
            "outputs": [
                {
                    "output_type": "execute_result",
                    "data": {
                        "text/plain": [
                            "<StemContainer object of 3 artists>"
                        ]
                    },
                    "metadata": {},
                    "execution_count": 17
                },
                {
                    "output_type": "display_data",
                    "data": {
                        "text/plain": [
                            "<Figure size 432x288 with 1 Axes>"
                        ],
                        "image/png": "[encoded data removed]"
                    },
                    "metadata": {
                        "needs_background": "light"
                    }
                }
            ],
            "metadata": {}
        },
        {
            "cell_type": "code",
            "execution_count": 18,
            "source": [
                "# 这个也就是X_cos[2] - j*X_sin[2] \r\n",
                "cmpl = maxX_cos - 1j * maxX_sin\r\n",
                "mag = np.sqrt(maxX_cos**2 + maxX_sin**2)\r\n",
                "phase = np.arctan(maxX_sin/maxX_cos)    # 也就是pi/3"
            ],
            "outputs": [],
            "metadata": {}
        },
        {
            "cell_type": "code",
            "execution_count": null,
            "source": [],
            "outputs": [],
            "metadata": {}
        },
        {
            "cell_type": "markdown",
            "source": [],
            "metadata": {}
        }
    ],
    "metadata": {
        "orig_nbformat": 4,
        "language_info": {
            "name": "python",
            "version": "3.8.6",
            "mimetype": "text/x-python",
            "codemirror_mode": {
                "name": "ipython",
                "version": 3
            },
            "pygments_lexer": "ipython3",
            "nbconvert_exporter": "python",
            "file_extension": ".py"
        },
        "kernelspec": {
            "name": "python3",
            "display_name": "Python 3.8.6 64-bit"
        },
        "interpreter": {
            "hash": "d68fe340138aa4f5aa833188fc22127f83a80cc76d6f8ffd08a5d0bd28308c9f"
        }
    },
    "nbformat": 4,
    "nbformat_minor": 2
}